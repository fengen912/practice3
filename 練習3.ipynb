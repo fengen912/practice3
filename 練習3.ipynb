{
 "cells": [
  {
   "cell_type": "code",
   "execution_count": 1,
   "id": "0a87fc32",
   "metadata": {},
   "outputs": [
    {
     "ename": "SyntaxError",
     "evalue": "invalid syntax (2397353316.py, line 14)",
     "output_type": "error",
     "traceback": [
      "\u001b[0;36m  Cell \u001b[0;32mIn[1], line 14\u001b[0;36m\u001b[0m\n\u001b[0;31m    factors=[for i in range(1,number+1) if number%i==0]\u001b[0m\n\u001b[0m             ^\u001b[0m\n\u001b[0;31mSyntaxError\u001b[0m\u001b[0;31m:\u001b[0m invalid syntax\n"
     ]
    }
   ],
   "source": [
    "while True:\n",
    "    user_input=input(\"請輸入一個正整數（按Enter為離開）：\")\n",
    "    if user_input=='':\n",
    "        print(\"程式結束\")\n",
    "        break\n",
    "        \n",
    "    try:\n",
    "        number=int(user_input)\n",
    "        \n",
    "        if number<=0:\n",
    "            print(\"請輸入正整數\")\n",
    "            continue\n",
    "            \n",
    "        factors=[i for i in range(1,number+1) if number%i==0]\n",
    "        print(f\"{number}的所有因數為：{factors}\")\n",
    "        \n",
    "    except ValueError:\n",
    "        print(\"錯誤；請輸入一個正整數\")\n",
    "        continue"
   ]
  },
  {
   "cell_type": "code",
   "execution_count": null,
   "id": "3b5e2737",
   "metadata": {},
   "outputs": [],
   "source": []
  }
 ],
 "metadata": {
  "kernelspec": {
   "display_name": "Python 3 (ipykernel)",
   "language": "python",
   "name": "python3"
  },
  "language_info": {
   "codemirror_mode": {
    "name": "ipython",
    "version": 3
   },
   "file_extension": ".py",
   "mimetype": "text/x-python",
   "name": "python",
   "nbconvert_exporter": "python",
   "pygments_lexer": "ipython3",
   "version": "3.11.4"
  }
 },
 "nbformat": 4,
 "nbformat_minor": 5
}
